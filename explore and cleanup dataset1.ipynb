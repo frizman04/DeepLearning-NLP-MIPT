{
 "cells": [
  {
   "cell_type": "code",
   "execution_count": 21,
   "metadata": {
    "collapsed": true
   },
   "outputs": [],
   "source": [
    "import json\n",
    "import numpy as np\n",
    "\n",
    "from matplotlib import pyplot as plt\n",
    "import matplotlib"
   ]
  },
  {
   "cell_type": "code",
   "execution_count": 3,
   "metadata": {
    "collapsed": true
   },
   "outputs": [],
   "source": [
    "dataset = []\n",
    "with open('data/dataset.json',encoding='utf-8') as file :\n",
    "    for line in file :\n",
    "        dataset.append(json.loads(line))"
   ]
  },
  {
   "cell_type": "code",
   "execution_count": 4,
   "metadata": {},
   "outputs": [
    {
     "name": "stdout",
     "output_type": "stream",
     "text": [
      "Num of dialogs 4750\n",
      "\n",
      "With kyes :  dict_keys(['_id', 'dialogId', 'users', 'context', 'thread', 'evaluation'])\n"
     ]
    }
   ],
   "source": [
    "print('Num of dialogs %s' % len(dataset))\n",
    "print()\n",
    "print('With kyes : ',dataset[0].keys())"
   ]
  },
  {
   "cell_type": "code",
   "execution_count": 5,
   "metadata": {},
   "outputs": [
    {
     "name": "stdout",
     "output_type": "stream",
     "text": [
      "[{'id': '2483750', 'userType': 'org.pavlovai.communication.TelegramChat', 'username': 'yurakuratov'}, {'id': '240141261', 'userType': 'org.pavlovai.communication.TelegramChat', 'username': 'anatoliipotapov'}]\n"
     ]
    }
   ],
   "source": [
    "#в users ['users'][0]['userType'] содерится тип юзера бот/не бот\n",
    "print(dataset[0]['users'])"
   ]
  },
  {
   "cell_type": "code",
   "execution_count": 6,
   "metadata": {
    "collapsed": true,
    "scrolled": false
   },
   "outputs": [],
   "source": [
    "digits = [str(ch) for ch in list(range(10))] # ['0' , '1' , ... ,'9']\n",
    "rus_letters = [chr(i) for i in range(ord('а'),ord('я')+1)] # ['a' ... 'я']\n",
    "\n",
    "def get_statistics(dataset,need_print = False,earn_end = True):\n",
    "    '''\n",
    "        return statistcs : \n",
    "            cnt_thread\n",
    "            cnt_empty_thread\n",
    "            cnt_monolog\n",
    "            cnt_bot_conversations\n",
    "            cnt_rus_spam\n",
    "        and list of id for thresh conversentions\n",
    "    '''\n",
    "    cnt_empty_thread = 0\n",
    "    cnt_monolog = 0\n",
    "    cnt_thread = 0\n",
    "    cnt_bot_conversations = 0\n",
    "    cnt_rus_spam = 0\n",
    "    tresh_conversation_id = []\n",
    "    \n",
    "    for i,samle in enumerate(dataset) :\n",
    "\n",
    "        this_conversation_id = samle['_id']['$oid']\n",
    "        user1_id = samle['users'][0]['id']\n",
    "        user2_id = samle['users'][1]['id']\n",
    "        user1Type = samle['users'][0]['userType']\n",
    "        user2Type = samle['users'][1]['userType']\n",
    "\n",
    "        is_user1_bot = user1Type == 'org.pavlovai.communication.Bot'\n",
    "        is_user2_bot = user2Type == 'org.pavlovai.communication.Bot'\n",
    "\n",
    "        if is_user1_bot or is_user2_bot :\n",
    "            cnt_bot_conversations += 1\n",
    "        \n",
    "        if need_print :\n",
    "            print()\n",
    "            print(i)\n",
    "            print('Conversatin between : %s(%s)  and %s(%s)' % (user1Type,user1_id,user2Type,user2_id))\n",
    "\n",
    "\n",
    "        cnt_thread += 1\n",
    "\n",
    "        if len(samle['thread']) == 0 :\n",
    "            cnt_empty_thread += 1\n",
    "            tresh_conversation_id.append(this_conversation_id)\n",
    "            \n",
    "            if need_print :\n",
    "                print('Empty thread')\n",
    "\n",
    "        else :\n",
    "            seq_of_userid_speech = []\n",
    "            seq_of_speach = []\n",
    "            for phrase in samle['thread']:\n",
    "                seq_of_userid_speech.append(phrase['userId'])\n",
    "                seq_of_speach.append(phrase['text'])\n",
    "                if need_print :\n",
    "                    print(phrase)\n",
    "            \n",
    "            #cnt_rus_spam\n",
    "            join_text = ''.join(seq_of_speach)\n",
    "            total_char = len(join_text)\n",
    "            cnt_rus_letter = 0\n",
    "            for char in join_text :\n",
    "                if char in rus_letters :\n",
    "                    cnt_rus_letter += 1\n",
    "            if (cnt_rus_letter / total_char) > 0.01 :\n",
    "                cnt_rus_spam += 1\n",
    "                tresh_conversation_id.append(this_conversation_id)\n",
    "                    \n",
    "            #cnt_monolog\n",
    "            if len(np.unique(seq_of_userid_speech)) == 1 :\n",
    "                cnt_monolog += 1\n",
    "                tresh_conversation_id.append(this_conversation_id)\n",
    "            \n",
    "        if earn_end and i == 5000 :\n",
    "            break\n",
    "\n",
    "    tresh_conversation_id = np.unique(tresh_conversation_id)\n",
    "    tresh_conversation_id = list(tresh_conversation_id)\n",
    "    return cnt_thread,cnt_empty_thread,cnt_monolog,cnt_bot_conversations,cnt_rus_spam,tresh_conversation_id\n"
   ]
  },
  {
   "cell_type": "code",
   "execution_count": 7,
   "metadata": {
    "collapsed": true,
    "scrolled": false
   },
   "outputs": [],
   "source": [
    "cnt_thread,cnt_empty_thread,cnt_monolog,cnt_bot_conversations,cnt_rus_spam,tresh_conversation_id =\\\n",
    "    get_statistics(dataset,need_print = False,earn_end = False)"
   ]
  },
  {
   "cell_type": "code",
   "execution_count": 8,
   "metadata": {},
   "outputs": [
    {
     "name": "stdout",
     "output_type": "stream",
     "text": [
      "Total thread : 4750\n",
      "Cnt of epmy thread : 272 (0.057263) \n",
      "Cnt of monolog : 1125 (0.236842)\n",
      "Cnt of rus spam : 176 (0.037053)\n",
      "Cnt of total tresh : 1533 (0.322737)\n",
      "\n",
      "Cnt of bot conversation : 3070 (0.646316)\n"
     ]
    }
   ],
   "source": [
    "print('Total thread : %s' % cnt_thread)\n",
    "print('Cnt of epmy thread : %s (%f) ' % (cnt_empty_thread, cnt_empty_thread / cnt_thread))\n",
    "print('Cnt of monolog : %s (%f)'% (cnt_monolog, cnt_monolog / cnt_thread))\n",
    "print('Cnt of rus spam : %s (%f)' % (cnt_rus_spam, cnt_rus_spam / cnt_thread))\n",
    "print('Cnt of total tresh : %s (%f)' %  (len(tresh_conversation_id), len(tresh_conversation_id) / cnt_thread))\n",
    "\n",
    "\n",
    "print()\n",
    "print('Cnt of bot conversation : %s (%f)' % (cnt_bot_conversations, cnt_bot_conversations / cnt_thread))"
   ]
  },
  {
   "cell_type": "code",
   "execution_count": 9,
   "metadata": {
    "collapsed": true
   },
   "outputs": [],
   "source": [
    "def clean_up_dataset(dataset,tresh_conversation_id) :\n",
    "    ''' \n",
    "    return dataset without tresh_conversation_id conversation\n",
    "    '''\n",
    "    dataset_new = []\n",
    "    for sample in dataset :\n",
    "        this_conversation_id = sample['_id']['$oid']\n",
    "        if not (this_conversation_id in tresh_conversation_id) :\n",
    "            dataset_new.append(sample)\n",
    "    return dataset_new"
   ]
  },
  {
   "cell_type": "code",
   "execution_count": 10,
   "metadata": {
    "collapsed": true
   },
   "outputs": [],
   "source": [
    "dataset_new = clean_up_dataset(dataset,tresh_conversation_id)"
   ]
  },
  {
   "cell_type": "code",
   "execution_count": 11,
   "metadata": {
    "scrolled": false
   },
   "outputs": [],
   "source": [
    "def get_pharaze_statistics(dataset):\n",
    "    '''\n",
    "    return \n",
    "        conversation_length = []     #длина диалгоа (в ко-во фраз)\n",
    "        conversation_cnt_word = []   #количество слов в диалоге\n",
    "        conversation_cnt_chr = []    #количество символов в диалоге\n",
    "    '''\n",
    "\n",
    "    conversation_length = []     #длина диалгоа (в ко-во фраз)\n",
    "    conversation_cnt_word = []   #количество слов в диалоге\n",
    "    conversation_cnt_chr = []    #количество символов в диалоге\n",
    "\n",
    "    for sample in dataset :        \n",
    "        thread_length = len(sample['thread'])\n",
    "        conversation_length.append(thread_length)\n",
    "\n",
    "        word_cnt = len(' '.join([thread['text'] for thread in sample['thread']]).split(' '))\n",
    "        conversation_cnt_word.append(word_cnt)\n",
    "\n",
    "        chr_cnt = len(''.join([thread['text'] for thread in sample['thread']]))\n",
    "        conversation_cnt_chr.append(chr_cnt)\n",
    "    \n",
    "    return conversation_length,conversation_cnt_word,conversation_cnt_chr\n",
    "    \n",
    "    \n",
    "def get_percentiles(dataset, q = [10,90]) :\n",
    "\n",
    "    conversation_length,conversation_cnt_word,conversation_cnt_chr = get_pharaze_statistics(dataset)\n",
    "    \n",
    "    conversation_length_percentile = np.percentile(conversation_length,q)\n",
    "    conversation_cnt_word_percentile = np.percentile(conversation_cnt_word,q)\n",
    "    conversation_cnt_chr_percentile = np.percentile(conversation_cnt_chr,q)\n",
    "    \n",
    "    return conversation_length_percentile,conversation_cnt_word_percentile,conversation_cnt_chr_percentile"
   ]
  },
  {
   "cell_type": "code",
   "execution_count": 12,
   "metadata": {},
   "outputs": [
    {
     "name": "stdout",
     "output_type": "stream",
     "text": [
      "conversation_length_percentile [ 3. 34.]\n",
      "conversation_cnt_word_percentile [ 11.  213.2]\n",
      "conversation_cnt_chr_percentile [  53.  1088.4]\n"
     ]
    }
   ],
   "source": [
    "conversation_length_percentile,conversation_cnt_word_percentile,conversation_cnt_chr_percentile = \\\n",
    "                                                                                        get_percentiles(dataset_new,q= [5,95])\n",
    "print('conversation_length_percentile %s' % conversation_length_percentile)\n",
    "print('conversation_cnt_word_percentile %s' % conversation_cnt_word_percentile)\n",
    "print('conversation_cnt_chr_percentile %s' % conversation_cnt_chr_percentile)"
   ]
  },
  {
   "cell_type": "code",
   "execution_count": 13,
   "metadata": {
    "collapsed": true
   },
   "outputs": [],
   "source": [
    "def get_tresh_id_by_persentrils(dataset,conversation_length_percentile,\\\n",
    "                                conversation_cnt_word_percentile,conversation_cnt_chr_percentile)  :\n",
    "    tresh_ids = []\n",
    "    for sample in dataset :\n",
    "        \n",
    "        this_conversation_id = sample['_id']['$oid']\n",
    "        \n",
    "        thread_length = len(sample['thread'])\n",
    "        word_cnt = len(' '.join([thread['text'] for thread in sample['thread']]).split(' '))\n",
    "        chr_cnt = len(''.join([thread['text'] for thread in sample['thread']]))\n",
    "        \n",
    "        if ((thread_length < conversation_length_percentile[0] or thread_length > conversation_length_percentile[1]) or \n",
    "           (word_cnt < conversation_cnt_word_percentile[0]     or word_cnt > conversation_cnt_word_percentile[1]) or\n",
    "           (chr_cnt <  conversation_cnt_chr_percentile[0]      or chr_cnt > conversation_cnt_chr_percentile[1] )):\n",
    "            tresh_ids.append(this_conversation_id)\n",
    "    return  tresh_ids"
   ]
  },
  {
   "cell_type": "code",
   "execution_count": 14,
   "metadata": {
    "collapsed": true
   },
   "outputs": [],
   "source": [
    "tresh_conversation_id2 = get_tresh_id_by_persentrils(dataset_new,conversation_length_percentile,\\\n",
    "                                                    conversation_cnt_word_percentile,conversation_cnt_chr_percentile)"
   ]
  },
  {
   "cell_type": "code",
   "execution_count": 15,
   "metadata": {
    "collapsed": true
   },
   "outputs": [],
   "source": [
    "dataset_new2 = clean_up_dataset(dataset_new,tresh_conversation_id2)"
   ]
  },
  {
   "cell_type": "code",
   "execution_count": 16,
   "metadata": {},
   "outputs": [
    {
     "name": "stdout",
     "output_type": "stream",
     "text": [
      "Total thread : 4750\n",
      "Final threads cnt 2759 (0.580842)\n"
     ]
    }
   ],
   "source": [
    "print('Total thread : %s' % cnt_thread)\n",
    "print('Final threads cnt %s (%f)' % (len(dataset_new2), len(dataset_new2) / cnt_thread ))"
   ]
  },
  {
   "cell_type": "code",
   "execution_count": 17,
   "metadata": {
    "collapsed": true
   },
   "outputs": [],
   "source": [
    "with open('dataset_cleanup.json','w',encoding='utf-8') as file :\n",
    "    json.dump(dataset_new2,file)"
   ]
  },
  {
   "cell_type": "code",
   "execution_count": 18,
   "metadata": {
    "collapsed": true
   },
   "outputs": [],
   "source": [
    "with open('dataset_cleanup.json',encoding='utf-8') as file :\n",
    "    tmp = json.load(file)"
   ]
  },
  {
   "cell_type": "markdown",
   "metadata": {},
   "source": [
    "# Сбор статистики по всем данным"
   ]
  },
  {
   "cell_type": "code",
   "execution_count": 19,
   "metadata": {},
   "outputs": [
    {
     "name": "stdout",
     "output_type": "stream",
     "text": [
      "Info for dataset_mipt\n",
      "Dialog count : 4750\n",
      "Average phraze in dialogue  : 10.577052631578947\n",
      "Average count of word in dialogue : 63.792\n",
      "Average count of char in dialogue : 343.8698947368421\n",
      "\n",
      "Info for dataset_mipt_ceanup\n",
      "Dialog count : 2759\n",
      "Average phraze in dialogue  : 12.851032982964842\n",
      "Average count of word in dialogue : 76.43457774555999\n",
      "Average count of char in dialogue : 386.3399782529902\n",
      "\n"
     ]
    }
   ],
   "source": [
    "for name,dset in [('dataset_mipt',dataset),('dataset_mipt_ceanup',dataset_new2)] :\n",
    "    print('Info for %s' % name)\n",
    "    print('Dialog count : %s' % len(dset))\n",
    "    \n",
    "    conversation_length,conversation_cnt_word,conversation_cnt_chr = get_pharaze_statistics(dset)\n",
    "    print('Average phraze in dialogue  : %s' % np.average(conversation_length))\n",
    "    print('Average count of word in dialogue : %s' % np.average(conversation_cnt_word))\n",
    "    print('Average count of char in dialogue : %s' % np.average(conversation_cnt_chr))\n",
    "    print()"
   ]
  },
  {
   "cell_type": "code",
   "execution_count": 54,
   "metadata": {},
   "outputs": [],
   "source": [
    "matplotlib.rcParams.update({'font.size': 32})"
   ]
  },
  {
   "cell_type": "code",
   "execution_count": 55,
   "metadata": {},
   "outputs": [
    {
     "data": {
      "image/png": "[encoded data removed]",
      "text/plain": [
       "<matplotlib.figure.Figure at 0x182213a67b8>"
      ]
     },
     "metadata": {},
     "output_type": "display_data"
    }
   ],
   "source": [
    "conversation_length,_,_ = get_pharaze_statistics(dataset)\n",
    "\n",
    "plt.figure(figsize=(16,12))\n",
    "plt.hist(conversation_length,bins=20)\n",
    "plt.xlabel('Number of phrases in dialogs')\n",
    "plt.savefig('img/dataset1.pdf',format='pdf')\n",
    "plt.show()"
   ]
  },
  {
   "cell_type": "code",
   "execution_count": 56,
   "metadata": {},
   "outputs": [
    {
     "data": {
      "image/png": "[encoded data removed]",
      "text/plain": [
       "<matplotlib.figure.Figure at 0x18225b8d550>"
      ]
     },
     "metadata": {},
     "output_type": "display_data"
    }
   ],
   "source": [
    "conversation_length,_,_ = get_pharaze_statistics(dataset_new2)\n",
    "\n",
    "plt.figure(figsize=(16,12))  \n",
    "plt.hist(conversation_length,bins=20)\n",
    "plt.xlabel('Number of phrases in dialogs')\n",
    "plt.savefig('img/dataset1_cleanup.pdf',format='pdf')\n",
    "plt.show()"
   ]
  },
  {
   "cell_type": "code",
   "execution_count": null,
   "metadata": {
    "collapsed": true
   },
   "outputs": [],
   "source": []
  }
 ],
 "metadata": {
  "kernelspec": {
   "display_name": "Python 3",
   "language": "python",
   "name": "python3"
  },
  "language_info": {
   "codemirror_mode": {
    "name": "ipython",
    "version": 3
   },
   "file_extension": ".py",
   "mimetype": "text/x-python",
   "name": "python",
   "nbconvert_exporter": "python",
   "pygments_lexer": "ipython3",
   "version": "3.6.3"
  }
 },
 "nbformat": 4,
 "nbformat_minor": 2
}
