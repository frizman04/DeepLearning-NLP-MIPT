{
 "cells": [
  {
   "cell_type": "code",
   "execution_count": 10,
   "metadata": {
    "collapsed": true
   },
   "outputs": [],
   "source": [
    "import numpy as np\n",
    "import pandas as pd\n",
    "from matplotlib import pyplot as plt\n",
    "import matplotlib\n",
    "\n",
    "import xml.etree.ElementTree as ET\n",
    "\n",
    "\n",
    "TICK_TOCK = 'TickTock'\n",
    "IRIS = 'IRIS'\n",
    "JOCKER = 'Joker'\n",
    "\n",
    "TICK_TOCK_PATH = 'data/TickTock.xml'\n",
    "IRIS_PATH = 'data/IRIS.xml'\n",
    "JOCKER_PATH = 'data/Joker.xml'"
   ]
  },
  {
   "cell_type": "code",
   "execution_count": 2,
   "metadata": {
    "collapsed": true
   },
   "outputs": [],
   "source": [
    "def load_preproces_data(PATH) :\n",
    "    '''\n",
    "    return df with X and Y\n",
    "    \n",
    "    '''\n",
    "    tree  = ET.parse(PATH)\n",
    "    root = tree.getroot()\n",
    "\n",
    "    BOT_TAG = 'SYSTEM'\n",
    "    Y = []\n",
    "    X = []\n",
    "\n",
    "    for dialog_indx,dialog in enumerate(root) :\n",
    "\n",
    "        is_user1_bot = dialog[3][0].text == BOT_TAG\n",
    "        is_user2_bot = dialog[4][0].text == BOT_TAG\n",
    "\n",
    "        yi = [int(is_user1_bot),int(is_user2_bot)]\n",
    "        Y.append(yi)\n",
    "\n",
    "        for child in dialog :\n",
    "            if child.tag == 'turn' :\n",
    "                #print('user_type :',child[0].text)\n",
    "\n",
    "                #в рамках данного датасета кто-то из говорящих точно бот\n",
    "                is_speeker_bot = child[0].text == BOT_TAG\n",
    "\n",
    "                is_user1 = (is_speeker_bot and is_user1_bot) or (not(is_speeker_bot) and is_user2_bot)\n",
    "                is_user2 = not is_user1 #если говорит 1й то значит второй молчит\n",
    "\n",
    "                xi = [dialog_indx,int(is_user1),int(is_user2),child[1].text]\n",
    "                X.append(xi)\n",
    "\n",
    "    Y = np.array(Y)\n",
    "    X = np.array(X)\n",
    "    \n",
    "    df = pd.DataFrame(columns=['dialog_indx','is_user1','is_user2','text','embeding'])\n",
    "    df['dialog_indx'] = X[:,0] \n",
    "    df['is_user1'] = X[:,1]\n",
    "    df['is_user2'] = X[:,2]\n",
    "    df['text'] = X[:,3]\n",
    "\n",
    "    df['dialog_indx'] = df['dialog_indx'].apply(pd.to_numeric)\n",
    "    df['is_user1'] = df['is_user1'].apply(pd.to_numeric)\n",
    "    df['is_user2'] = df['is_user2'].apply(pd.to_numeric)\n",
    "    \n",
    "    return df,Y"
   ]
  },
  {
   "cell_type": "code",
   "execution_count": 3,
   "metadata": {
    "collapsed": true
   },
   "outputs": [],
   "source": [
    "df,Y = load_preproces_data(JOCKER_PATH)"
   ]
  },
  {
   "cell_type": "code",
   "execution_count": 4,
   "metadata": {},
   "outputs": [
    {
     "data": {
      "text/html": [
       "<div>\n",
       "<style>\n",
       "    .dataframe thead tr:only-child th {\n",
       "        text-align: right;\n",
       "    }\n",
       "\n",
       "    .dataframe thead th {\n",
       "        text-align: left;\n",
       "    }\n",
       "\n",
       "    .dataframe tbody tr th {\n",
       "        vertical-align: top;\n",
       "    }\n",
       "</style>\n",
       "<table border=\"1\" class=\"dataframe\">\n",
       "  <thead>\n",
       "    <tr style=\"text-align: right;\">\n",
       "      <th></th>\n",
       "      <th>dialog_indx</th>\n",
       "      <th>is_user1</th>\n",
       "      <th>is_user2</th>\n",
       "      <th>text</th>\n",
       "      <th>embeding</th>\n",
       "    </tr>\n",
       "  </thead>\n",
       "  <tbody>\n",
       "    <tr>\n",
       "      <th>0</th>\n",
       "      <td>0</td>\n",
       "      <td>1</td>\n",
       "      <td>0</td>\n",
       "      <td>hello</td>\n",
       "      <td>NaN</td>\n",
       "    </tr>\n",
       "    <tr>\n",
       "      <th>1</th>\n",
       "      <td>0</td>\n",
       "      <td>0</td>\n",
       "      <td>1</td>\n",
       "      <td>hello</td>\n",
       "      <td>NaN</td>\n",
       "    </tr>\n",
       "    <tr>\n",
       "      <th>2</th>\n",
       "      <td>0</td>\n",
       "      <td>1</td>\n",
       "      <td>0</td>\n",
       "      <td>i'm USER_NAME</td>\n",
       "      <td>NaN</td>\n",
       "    </tr>\n",
       "    <tr>\n",
       "      <th>3</th>\n",
       "      <td>0</td>\n",
       "      <td>0</td>\n",
       "      <td>1</td>\n",
       "      <td>what dent</td>\n",
       "      <td>NaN</td>\n",
       "    </tr>\n",
       "    <tr>\n",
       "      <th>4</th>\n",
       "      <td>0</td>\n",
       "      <td>1</td>\n",
       "      <td>0</td>\n",
       "      <td>who are you?</td>\n",
       "      <td>NaN</td>\n",
       "    </tr>\n",
       "  </tbody>\n",
       "</table>\n",
       "</div>"
      ],
      "text/plain": [
       "   dialog_indx  is_user1  is_user2           text embeding\n",
       "0            0         1         0          hello      NaN\n",
       "1            0         0         1          hello      NaN\n",
       "2            0         1         0  i'm USER_NAME      NaN\n",
       "3            0         0         1      what dent      NaN\n",
       "4            0         1         0   who are you?      NaN"
      ]
     },
     "execution_count": 4,
     "metadata": {},
     "output_type": "execute_result"
    }
   ],
   "source": [
    "df.head()"
   ]
  },
  {
   "cell_type": "code",
   "execution_count": 8,
   "metadata": {
    "collapsed": true
   },
   "outputs": [],
   "source": [
    "#провека на каличность auc_roc\n",
    "#for dialog in root :\n",
    "#    print(dialog[3][0].text,dialog[4][0].text)"
   ]
  },
  {
   "cell_type": "code",
   "execution_count": null,
   "metadata": {
    "collapsed": true
   },
   "outputs": [],
   "source": []
  },
  {
   "cell_type": "code",
   "execution_count": null,
   "metadata": {
    "collapsed": true
   },
   "outputs": [],
   "source": []
  },
  {
   "cell_type": "markdown",
   "metadata": {},
   "source": [
    "# Получим статистики по датасету\n",
    "\n",
    "статистики :\n",
    "0. количество пустых реплик\n",
    "1. количество пустых диалогов \n",
    "2. количество монологов\n",
    "\n",
    "распределение :\n",
    " 1. длина диалгоа (в ко-во фраз)\n",
    " 2. количество слов в диалоге\n",
    " 3. количество символов в диалоге\n"
   ]
  },
  {
   "cell_type": "code",
   "execution_count": 5,
   "metadata": {
    "collapsed": true
   },
   "outputs": [],
   "source": [
    "def get_pharaze_statistics(df) :\n",
    "    '''\n",
    "    return \n",
    "        dilalog_len = []     #длина диалгоа (в ко-во фраз)\n",
    "        dialog_cnt_word = []   #количество слов в диалоге\n",
    "        conversation_cnt_chr = []    #количество символов в диалоге\n",
    "    '''\n",
    "    \n",
    "    dilalog_len = []\n",
    "    for indx in np.unique(df['dialog_indx'].values) :\n",
    "        dilalog_len.append(df.loc[df['dialog_indx'] == indx]['text'].values.shape[0])\n",
    "        \n",
    "    dialog_cnt_word = []\n",
    "    for indx in np.unique(df['dialog_indx'].values) :\n",
    "        dialog_cnt_word.append(len(' '.join(df.loc[df['dialog_indx'] == indx]['text'].values).split(' ')))\n",
    "        \n",
    "    dialog_cnt_char =[]\n",
    "    for indx in np.unique(df['dialog_indx'].values) :\n",
    "        dialog_cnt_char.append(len(' '.join(df.loc[df['dialog_indx'] == indx]['text'].values)))\n",
    "        \n",
    "    return dilalog_len,dialog_cnt_word,dialog_cnt_char"
   ]
  },
  {
   "cell_type": "code",
   "execution_count": 6,
   "metadata": {},
   "outputs": [
    {
     "name": "stdout",
     "output_type": "stream",
     "text": [
      "Количество пустых реплик == 0 поскольку минимальная длинна реплики =  1\n",
      "Количесвто пустых диалогов == 0 поскольку :\n",
      "Минимальная длина диалога (в кол-во фраз) : 6 максимальная : 180\n",
      "percentile 5%-95% :  [11.1 77.8]\n"
     ]
    },
    {
     "data": {
      "image/png": "[encoded data removed]",
      "text/plain": [
       "<matplotlib.figure.Figure at 0x208be194ba8>"
      ]
     },
     "metadata": {},
     "output_type": "display_data"
    },
    {
     "name": "stdout",
     "output_type": "stream",
     "text": [
      "Минимальное количесвто фраз в диалоге : 11\n"
     ]
    },
    {
     "data": {
      "image/png": "[encoded data removed]",
      "text/plain": [
       "<matplotlib.figure.Figure at 0x208b1e0feb8>"
      ]
     },
     "metadata": {},
     "output_type": "display_data"
    },
    {
     "data": {
      "image/png": "[encoded data removed]",
      "text/plain": [
       "<matplotlib.figure.Figure at 0x208bdf90518>"
      ]
     },
     "metadata": {},
     "output_type": "display_data"
    },
    {
     "name": "stdout",
     "output_type": "stream",
     "text": [
      "Количество монологов == 0 посколько следующий код исполняется без ощшибки\n"
     ]
    }
   ],
   "source": [
    "dilalog_len,dialog_cnt_word,dialog_cnt_char = get_pharaze_statistics(df)\n",
    "\n",
    "print('Количество пустых реплик == 0 поскольку минимальная длинна реплики = ',min([len(thread) for thread in df.text.values]))\n",
    "\n",
    "print('Количесвто пустых диалогов == 0 поскольку :')\n",
    "print('Минимальная длина диалога (в кол-во фраз) :',min(dilalog_len),'максимальная :',max(dilalog_len))\n",
    "print('percentile 5%-95% : ',np.percentile(dilalog_len, [5,95]))\n",
    "\n",
    "plt.hist(dilalog_len,bins=20)\n",
    "plt.title('Длина диалога в репликах')\n",
    "plt.show()\n",
    "\n",
    "print('Минимальное количесвто фраз в диалоге :',min(dialog_cnt_word))\n",
    "plt.title('Количесвто слов в диалоге')\n",
    "plt.hist(dialog_cnt_word,bins=50)\n",
    "plt.show()\n",
    "    \n",
    "plt.title('Количесвто символов в диалоге')\n",
    "plt.hist(dialog_cnt_char,bins=50)\n",
    "plt.show()\n",
    "\n",
    "\n",
    "print('Количество монологов == 0 посколько следующий код исполняется без ощшибки')\n",
    "for indx in np.unique(df['dialog_indx'].values) :\n",
    "    user1_thread_cnt = df.loc[df['dialog_indx'] == indx]['is_user1'].values.sum()\n",
    "    user2_thread_cnt = df.loc[df['dialog_indx'] == indx]['is_user2'].values.sum()\n",
    "    \n",
    "    assert user1_thread_cnt != 0\n",
    "    assert user2_thread_cnt != 0"
   ]
  },
  {
   "cell_type": "code",
   "execution_count": null,
   "metadata": {},
   "outputs": [],
   "source": []
  },
  {
   "cell_type": "markdown",
   "metadata": {},
   "source": [
    "# Получим обобщённую статистику для всех датасетов"
   ]
  },
  {
   "cell_type": "code",
   "execution_count": 7,
   "metadata": {},
   "outputs": [
    {
     "name": "stdout",
     "output_type": "stream",
     "text": [
      "Info for TickTock\n",
      "Dialog count : 206\n",
      "Average phraze in dialogue  : 26.514563106796118\n",
      "Average count of word in dialogue : 189.04854368932038\n",
      "Average count of char in dialogue : 983.1019417475728\n",
      "\n",
      "Info for IRIS\n",
      "Dialog count : 163\n",
      "Average phraze in dialogue  : 34.88957055214724\n",
      "Average count of word in dialogue : 182.68711656441718\n",
      "Average count of char in dialogue : 960.5582822085889\n",
      "\n",
      "Info for Joker\n",
      "Dialog count : 112\n",
      "Average phraze in dialogue  : 39.982142857142854\n",
      "Average count of word in dialogue : 154.23214285714286\n",
      "Average count of char in dialogue : 776.5892857142857\n",
      "\n"
     ]
    }
   ],
   "source": [
    "for name,path in [(TICK_TOCK,TICK_TOCK_PATH),(IRIS,IRIS_PATH),(JOCKER,JOCKER_PATH)] :\n",
    "    df,Y = load_preproces_data(path)\n",
    "    dilalog_len,dialog_cnt_word,dialog_cnt_char = get_pharaze_statistics(df)\n",
    "    dcnt = np.unique(df.dialog_indx.values).shape[0]\n",
    "    \n",
    "    \n",
    "    print('Info for %s' % name)\n",
    "    print('Dialog count : %s' % dcnt)\n",
    "    print('Average phraze in dialogue  : %s' % np.average(dilalog_len))\n",
    "    print('Average count of word in dialogue : %s' % np.average(dialog_cnt_word))\n",
    "    print('Average count of char in dialogue : %s' % np.average(dialog_cnt_char))\n",
    "    print()"
   ]
  },
  {
   "cell_type": "code",
   "execution_count": 11,
   "metadata": {
    "collapsed": true
   },
   "outputs": [],
   "source": [
    "matplotlib.rcParams.update({'font.size': 22})"
   ]
  },
  {
   "cell_type": "code",
   "execution_count": 12,
   "metadata": {},
   "outputs": [
    {
     "data": {
      "image/png": "[encoded data removed]",
      "text/plain": [
       "<matplotlib.figure.Figure at 0x208bd7c8e10>"
      ]
     },
     "metadata": {},
     "output_type": "display_data"
    }
   ],
   "source": [
    "df,Y = load_preproces_data(TICK_TOCK_PATH)\n",
    "dilalog_len,dialog_cnt_word,dialog_cnt_char = get_pharaze_statistics(df)\n",
    "\n",
    "plt.figure(figsize=(16,12))\n",
    "plt.hist(dilalog_len,bins=20)\n",
    "plt.xlabel('Dialogue length')\n",
    "\n",
    "plt.show()"
   ]
  },
  {
   "cell_type": "markdown",
   "metadata": {},
   "source": [
    "### Вывод : данные относительно чистые, будем использовать их целиком"
   ]
  },
  {
   "cell_type": "markdown",
   "metadata": {},
   "source": [
    "# Преобразуем embedigs"
   ]
  },
  {
   "cell_type": "code",
   "execution_count": 104,
   "metadata": {
    "collapsed": true
   },
   "outputs": [],
   "source": [
    "import torch\n",
    "\n",
    "GLOVE_PATH = 'InferSent/glove.840B.300d.txt'\n",
    "INFERSENT_MODEL_PATH = 'InferSent/infersent.allnli.pickle'"
   ]
  },
  {
   "cell_type": "code",
   "execution_count": 105,
   "metadata": {},
   "outputs": [
    {
     "name": "stderr",
     "output_type": "stream",
     "text": [
      "C:\\Users\\frizman04\\Anaconda3\\lib\\site-packages\\torch\\serialization.py:325: SourceChangeWarning: source code of class 'models.BLSTMEncoder' has changed. you can retrieve the original source code by accessing the object's source attribute or set `torch.nn.Module.dump_patches = True` and use the patch tool to revert the changes.\n",
      "  warnings.warn(msg, SourceChangeWarning)\n",
      "C:\\Users\\frizman04\\Anaconda3\\lib\\site-packages\\torch\\serialization.py:325: SourceChangeWarning: source code of class 'torch.nn.modules.rnn.LSTM' has changed. you can retrieve the original source code by accessing the object's source attribute or set `torch.nn.Module.dump_patches = True` and use the patch tool to revert the changes.\n",
      "  warnings.warn(msg, SourceChangeWarning)\n"
     ]
    },
    {
     "name": "stdout",
     "output_type": "stream",
     "text": [
      "Vocab size : 100000\n"
     ]
    }
   ],
   "source": [
    "model_inferSent = torch.load(INFERSENT_MODEL_PATH, map_location=lambda storage, loc: storage)\n",
    "torch.set_num_threads(5)\n",
    "\n",
    "model_inferSent.set_glove_path(GLOVE_PATH)\n",
    "model_inferSent.build_vocab_k_words(K=100000)"
   ]
  },
  {
   "cell_type": "code",
   "execution_count": 106,
   "metadata": {},
   "outputs": [
    {
     "name": "stdout",
     "output_type": "stream",
     "text": [
      "Nb words kept : 41839/49769 (84.07 %)\n",
      "Speed : 36.17 sentences/s (cpu mode, bsize=128)\n",
      "Wall time: 2min 31s\n"
     ]
    }
   ],
   "source": [
    "%%time\n",
    "embedings = model_inferSent.encode(df['text'].values, bsize=128, tokenize=False, verbose=True)"
   ]
  },
  {
   "cell_type": "code",
   "execution_count": 107,
   "metadata": {
    "collapsed": true
   },
   "outputs": [],
   "source": [
    "for indx,embd in enumerate(embedings) :\n",
    "    df.at[indx,'embeding'] = embd"
   ]
  },
  {
   "cell_type": "code",
   "execution_count": 108,
   "metadata": {},
   "outputs": [
    {
     "data": {
      "text/html": [
       "<div>\n",
       "<style>\n",
       "    .dataframe thead tr:only-child th {\n",
       "        text-align: right;\n",
       "    }\n",
       "\n",
       "    .dataframe thead th {\n",
       "        text-align: left;\n",
       "    }\n",
       "\n",
       "    .dataframe tbody tr th {\n",
       "        vertical-align: top;\n",
       "    }\n",
       "</style>\n",
       "<table border=\"1\" class=\"dataframe\">\n",
       "  <thead>\n",
       "    <tr style=\"text-align: right;\">\n",
       "      <th></th>\n",
       "      <th>dialog_indx</th>\n",
       "      <th>is_user1</th>\n",
       "      <th>is_user2</th>\n",
       "      <th>text</th>\n",
       "      <th>embeding</th>\n",
       "    </tr>\n",
       "  </thead>\n",
       "  <tbody>\n",
       "    <tr>\n",
       "      <th>0</th>\n",
       "      <td>0</td>\n",
       "      <td>1</td>\n",
       "      <td>0</td>\n",
       "      <td>Hi</td>\n",
       "      <td>[-0.018926175, -0.084827036, -0.030445112, -0....</td>\n",
       "    </tr>\n",
       "    <tr>\n",
       "      <th>1</th>\n",
       "      <td>0</td>\n",
       "      <td>0</td>\n",
       "      <td>1</td>\n",
       "      <td>We never really grow up, we only learn how to ...</td>\n",
       "      <td>[0.095699556, 0.03992436, 0.0041139815, -0.007...</td>\n",
       "    </tr>\n",
       "    <tr>\n",
       "      <th>2</th>\n",
       "      <td>0</td>\n",
       "      <td>1</td>\n",
       "      <td>0</td>\n",
       "      <td>How old are you</td>\n",
       "      <td>[0.03790433, -0.03920184, -0.00667746, 0.01039...</td>\n",
       "    </tr>\n",
       "    <tr>\n",
       "      <th>3</th>\n",
       "      <td>0</td>\n",
       "      <td>0</td>\n",
       "      <td>1</td>\n",
       "      <td>Uh-huh, I do. What do you think?</td>\n",
       "      <td>[0.0137795145, -0.053905495, -0.027774377, -0....</td>\n",
       "    </tr>\n",
       "    <tr>\n",
       "      <th>4</th>\n",
       "      <td>0</td>\n",
       "      <td>1</td>\n",
       "      <td>0</td>\n",
       "      <td>Are you a robot?</td>\n",
       "      <td>[0.04048376, 0.0039107967, -0.022042304, -0.06...</td>\n",
       "    </tr>\n",
       "  </tbody>\n",
       "</table>\n",
       "</div>"
      ],
      "text/plain": [
       "   dialog_indx  is_user1  is_user2  \\\n",
       "0            0         1         0   \n",
       "1            0         0         1   \n",
       "2            0         1         0   \n",
       "3            0         0         1   \n",
       "4            0         1         0   \n",
       "\n",
       "                                                text  \\\n",
       "0                                                 Hi   \n",
       "1  We never really grow up, we only learn how to ...   \n",
       "2                                    How old are you   \n",
       "3                   Uh-huh, I do. What do you think?   \n",
       "4                                   Are you a robot?   \n",
       "\n",
       "                                            embeding  \n",
       "0  [-0.018926175, -0.084827036, -0.030445112, -0....  \n",
       "1  [0.095699556, 0.03992436, 0.0041139815, -0.007...  \n",
       "2  [0.03790433, -0.03920184, -0.00667746, 0.01039...  \n",
       "3  [0.0137795145, -0.053905495, -0.027774377, -0....  \n",
       "4  [0.04048376, 0.0039107967, -0.022042304, -0.06...  "
      ]
     },
     "execution_count": 108,
     "metadata": {},
     "output_type": "execute_result"
    }
   ],
   "source": [
    "df.head()"
   ]
  },
  {
   "cell_type": "code",
   "execution_count": 109,
   "metadata": {},
   "outputs": [
    {
     "name": "stdout",
     "output_type": "stream",
     "text": [
      "Max dialog len : 180\n",
      "Cnt of dialog : 206 \n"
     ]
    }
   ],
   "source": [
    "MAX_DIALOG_LENGTH = 180#max(dilalog_len)\n",
    "COUNT_OF_DIALOG = df['dialog_indx'].max() + 1\n",
    "EMPTY_INFERSENT_VECT = np.zeros(shape=4096) #model_inferSent.encode([''])[0]\n",
    "\n",
    "print('Max dialog len : %s' % MAX_DIALOG_LENGTH)\n",
    "print('Cnt of dialog : %s ' % COUNT_OF_DIALOG)"
   ]
  },
  {
   "cell_type": "code",
   "execution_count": 110,
   "metadata": {},
   "outputs": [
    {
     "name": "stdout",
     "output_type": "stream",
     "text": [
      "Wall time: 4.07 s\n"
     ]
    }
   ],
   "source": [
    "%%time\n",
    "\n",
    "X = []\n",
    "EMPTY_INFERSENT_VECT_with_user1or2 = np.hstack(([0,0],EMPTY_INFERSENT_VECT))\n",
    "\n",
    "for indx in range(COUNT_OF_DIALOG) :\n",
    "    \n",
    "    curr_dialog_embeding = list(df.loc[df['dialog_indx'] == indx]['embeding'].values)\n",
    "    curr_dialog_user1or2 = df.loc[df['dialog_indx'] == indx][['is_user1','is_user2']].values\n",
    "\n",
    "    curr_dialog = []\n",
    "    for embeding,user1or2 in zip(curr_dialog_embeding,curr_dialog_user1or2) :\n",
    "        curr_dialog.append(np.hstack((user1or2,embeding)))\n",
    "    \n",
    "    while len(curr_dialog) < MAX_DIALOG_LENGTH :\n",
    "        curr_dialog.append(EMPTY_INFERSENT_VECT_with_user1or2)\n",
    "    curr_dialog = np.array(curr_dialog)\n",
    "    X.append(curr_dialog)\n",
    "    \n",
    "X = np.array(X)"
   ]
  },
  {
   "cell_type": "code",
   "execution_count": 111,
   "metadata": {},
   "outputs": [
    {
     "name": "stdout",
     "output_type": "stream",
     "text": [
      "X shape (206, 180, 4098) \n",
      "Y shape (206, 2) \n"
     ]
    }
   ],
   "source": [
    "print('X shape %s ' % str(X.shape))\n",
    "print('Y shape %s ' % str(Y.shape))"
   ]
  },
  {
   "cell_type": "code",
   "execution_count": 112,
   "metadata": {
    "collapsed": true
   },
   "outputs": [],
   "source": [
    "np.save(open('tmp/X_TikTok_with_user_marker_empty0','wb'),X)\n",
    "np.save(open('tmp/Y_TikTok','wb'),Y)"
   ]
  },
  {
   "cell_type": "code",
   "execution_count": null,
   "metadata": {
    "collapsed": true
   },
   "outputs": [],
   "source": [
    "#X = np.load(open('tmp/X_TikTok_with_user_marker_empty0','rb'))\n",
    "#Y = np.load(open('tmp/Y_TikTok','rb'))"
   ]
  },
  {
   "cell_type": "markdown",
   "metadata": {},
   "source": [
    "# Обьеденим датасеты"
   ]
  },
  {
   "cell_type": "code",
   "execution_count": 3,
   "metadata": {
    "collapsed": true
   },
   "outputs": [],
   "source": [
    "X_TikTok_PATH = 'tmp/X_TikTok_with_user_marker_empty0'\n",
    "X_JOKER_PATH = 'tmp/X_JOKER_with_user_marker_empty0'\n",
    "X_IRIS_PATH = 'tmp/X_IRIS_with_user_marker_empty0'\n",
    "\n",
    "Y_TikTok_PATH = 'tmp/Y_TikTok'\n",
    "Y_JOKER_PATH = 'tmp/Y_JOKER'\n",
    "Y_IRIS_PATH = 'tmp/Y_IRIS'"
   ]
  },
  {
   "cell_type": "code",
   "execution_count": 4,
   "metadata": {
    "collapsed": true
   },
   "outputs": [],
   "source": [
    "X_TikTok = np.load(open(X_TikTok_PATH,'rb'))\n",
    "X_JOKER = np.load(open(X_JOKER_PATH,'rb'))\n",
    "X_IRIS = np.load(open(X_IRIS_PATH,'rb'))\n",
    "Y_TikTok = np.load(open(Y_TikTok_PATH,'rb'))\n",
    "Y_JOKER = np.load(open(Y_JOKER_PATH,'rb'))\n",
    "Y_IRIS = np.load(open(Y_IRIS_PATH,'rb'))"
   ]
  },
  {
   "cell_type": "code",
   "execution_count": 5,
   "metadata": {},
   "outputs": [
    {
     "name": "stdout",
     "output_type": "stream",
     "text": [
      "(206, 180, 4098)\n",
      "(112, 180, 4098)\n",
      "(163, 180, 4098)\n"
     ]
    }
   ],
   "source": [
    "print(X_TikTok.shape)\n",
    "print(X_JOKER.shape)\n",
    "print(X_IRIS.shape)"
   ]
  },
  {
   "cell_type": "code",
   "execution_count": 6,
   "metadata": {
    "collapsed": true
   },
   "outputs": [],
   "source": [
    "X_xml = np.concatenate((X_TikTok,X_JOKER,X_IRIS),axis=0)"
   ]
  },
  {
   "cell_type": "code",
   "execution_count": 8,
   "metadata": {},
   "outputs": [
    {
     "name": "stdout",
     "output_type": "stream",
     "text": [
      "(481, 2)\n"
     ]
    }
   ],
   "source": [
    "Y_xml = np.concatenate((Y_TikTok,Y_JOKER,Y_IRIS),axis=0)\n",
    "print(Y_xml.shape)"
   ]
  },
  {
   "cell_type": "code",
   "execution_count": 10,
   "metadata": {
    "collapsed": true
   },
   "outputs": [],
   "source": [
    "np.save(open('tmp/X_TikTok_JOKER_IRIS_chatbot','wb'),X_xml)\n",
    "np.save(open('tmp/Y_TikTok_JOKER_IRIS_chatbot','wb'),Y_xml)"
   ]
  },
  {
   "cell_type": "code",
   "execution_count": null,
   "metadata": {
    "collapsed": true
   },
   "outputs": [],
   "source": []
  }
 ],
 "metadata": {
  "kernelspec": {
   "display_name": "Python 3",
   "language": "python",
   "name": "python3"
  },
  "language_info": {
   "codemirror_mode": {
    "name": "ipython",
    "version": 3
   },
   "file_extension": ".py",
   "mimetype": "text/x-python",
   "name": "python",
   "nbconvert_exporter": "python",
   "pygments_lexer": "ipython3",
   "version": "3.6.3"
  }
 },
 "nbformat": 4,
 "nbformat_minor": 2
}
